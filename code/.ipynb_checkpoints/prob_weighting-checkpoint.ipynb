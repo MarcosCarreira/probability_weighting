{
 "cells": [
  {
   "cell_type": "markdown",
   "metadata": {},
   "source": [
    "Let's generate N discrete time series, each consisting of T observations of a random variable X.\n",
    "\n",
    "First, we load the necessary python packages.\n",
    "                    "
   ]
  },
  {
   "cell_type": "code",
   "execution_count": 34,
   "metadata": {},
   "outputs": [
    {
     "name": "stdout",
     "output_type": "stream",
     "text": [
      "Python is: 3.6.6 |Anaconda custom (64-bit)| (default, Jun 28 2018, 11:07:29) \n",
      "[GCC 4.2.1 Compatible Clang 4.0.1 (tags/RELEASE_401/final)]\n",
      "Matplotlib is: 2.1.0\n",
      "numpy is: 1.13.3\n"
     ]
    }
   ],
   "source": [
    "# Check python version\n",
    "import sys\n",
    "print(\"Python is:\", sys.version)\n",
    "\n",
    "# Import matplotlib and numpy\n",
    "import matplotlib\n",
    "import matplotlib.pyplot as plt\n",
    "print(\"Matplotlib is:\", matplotlib.__version__)\n",
    "\n",
    "import numpy as np\n",
    "print(\"numpy is:\", np.__version__)\n",
    "\n",
    "import random\n",
    "from scipy.stats import triang\n",
    "from scipy.stats import norm\n",
    "from scipy.stats import truncnorm\n",
    "\n",
    "%matplotlib inline"
   ]
  },
  {
   "cell_type": "markdown",
   "metadata": {},
   "source": [
    "Next, we generate the series of random numbers. $N$ is the number of different series, and $T$ specifies how many observation we have in each series.\n",
    "\n",
    "We also set the range of the distribution we will consider [x_min, x_max], and the number of bins, n_bins, into which we will split this range. "
   ]
  },
  {
   "cell_type": "code",
   "execution_count": 35,
   "metadata": {},
   "outputs": [],
   "source": [
    "N=5000\n",
    "T=10\n",
    "\n",
    "x_min=0\n",
    "x_max=1\n",
    "n_bins=20\n",
    "bin_width=(x_max-x_min)/n_bins\n",
    "\n",
    "X=np.zeros((N,T))\n",
    "for i in range(0,N):\n",
    "    for j in range(0,T):\n",
    "        X[i][j]=np.random.triangular(x_min,(x_min+x_max)/2,x_max)\n",
    "#        X[i][j]=np.random.normal(0,1)\n",
    "\n"
   ]
  },
  {
   "cell_type": "markdown",
   "metadata": {},
   "source": [
    "Next, we\n",
    "\n",
    "1. Count observations in each bin, for each of the N time series, yielding N histograms.\n",
    "\n",
    "2. Estimate the uncertainty in the bin counts as the standard deviation across all time series.\n",
    "\n",
    "3. Construct the decision weight desnity $w$ by adding the uncertainty to each count, dividing by the total observations, and normalising.\n",
    "\n",
    "4. Construct the CDF of the decision weights.\n",
    "\n",
    "5. Find the CDF of the reference distribution we used to generate the data."
   ]
  },
  {
   "cell_type": "code",
   "execution_count": 76,
   "metadata": {},
   "outputs": [],
   "source": [
    "#1 count\n",
    "n=np.empty((N,n_bins))\n",
    "\n",
    "for series in range(0,N):\n",
    "    n[series][:]=np.histogram(X[series][:],bins=n_bins,range=(x_min,x_max))[0]\n",
    "    \n",
    "x_bins=np.histogram(X[series][:],bins=n_bins,range=(x_min,x_max))[1] # bin edges\n",
    "\n",
    "x_l=x_bins[0:-1]\n",
    "x_r=x_bins[1:]\n",
    "x_bin_c=(x_l+x_r)/2"
   ]
  },
  {
   "cell_type": "code",
   "execution_count": 55,
   "metadata": {},
   "outputs": [],
   "source": [
    "#2 find uncertainty\n",
    "uncertainty=np.std(n,0)"
   ]
  },
  {
   "cell_type": "code",
   "execution_count": 66,
   "metadata": {},
   "outputs": [],
   "source": [
    "#3 construct decision weights and normalize\n",
    "#narb=n[0] # choose an arbitrary set of counts\n",
    "#narb=np.median(n,0)\n",
    "narb=np.mean(n,0)\n",
    "phat=narb/(T) # estimated probability\n",
    "wraw=phat+uncertainty/T # unnormalised decision weight\n",
    "wmass=np.sum(wraw) # unnormalised mass\n",
    "w=wraw/wmass # normalised decision weight"
   ]
  },
  {
   "cell_type": "code",
   "execution_count": 67,
   "metadata": {},
   "outputs": [
    {
     "data": {
      "image/png": "[encoded data removed]",
      "text/plain": [
       "<matplotlib.figure.Figure at 0x1a20cf8be0>"
      ]
     },
     "metadata": {
      "needs_background": "light"
     },
     "output_type": "display_data"
    }
   ],
   "source": [
    "fig=plt.figure()\n",
    "ax=fig.add_axes([0,0,1,1])\n",
    "ax.plot(x_bin_c,narb,'b',label='narb')\n",
    "ax.plot(x_bin_c,phat,'r',label='phat')\n",
    "ax.plot(x_bin_c,wraw,'g',label='wraw')\n",
    "ax.plot(x_bin_c,w,'m',label='w')\n",
    "ax.legend()\n",
    "ax.set_xlabel(r'$x$')\n",
    "ax.set_ylabel(r'$densities$')\n",
    "plt.show() "
   ]
  },
  {
   "cell_type": "code",
   "execution_count": 73,
   "metadata": {},
   "outputs": [
    {
     "data": {
      "text/plain": [
       "array([ 0.01242808,  0.0359497 ,  0.0681917 ,  0.10880768,  0.15736505,\n",
       "        0.21169163,  0.27621081,  0.34441331,  0.41876714,  0.50079369,\n",
       "        0.5823963 ,  0.65797171,  0.72686375,  0.78862228,  0.84486246,\n",
       "        0.89197508,  0.93185999,  0.96527584,  0.98819568,  1.        ])"
      ]
     },
     "execution_count": 73,
     "metadata": {},
     "output_type": "execute_result"
    }
   ],
   "source": [
    "#4 find decision weight CDF\n",
    "Fw=np.cumsum(w)\n",
    "Fw"
   ]
  },
  {
   "cell_type": "code",
   "execution_count": 74,
   "metadata": {},
   "outputs": [
    {
     "data": {
      "text/plain": [
       "array([ 0.005,  0.02 ,  0.045,  0.08 ,  0.125,  0.18 ,  0.245,  0.32 ,\n",
       "        0.405,  0.5  ,  0.595,  0.68 ,  0.755,  0.82 ,  0.875,  0.92 ,\n",
       "        0.955,  0.98 ,  0.995,  1.   ])"
      ]
     },
     "execution_count": 74,
     "metadata": {},
     "output_type": "execute_result"
    }
   ],
   "source": [
    "#5 find reference CDF\n",
    "#x_bins=np.histogram(X[series][:],bins=n_bins,range=(x_min,x_max))[1] # bin edges\n",
    "#x_bins=x_bins[1:] # remove first bin edge\n",
    "#Fp=triang.cdf(np.histogram(X[series][:],bins=n_bins,range=(x_min,x_max))[1],.5,0,1)\n",
    "#Fp=norm.cdf(x_r,0,1)\n",
    "Fp=triang.cdf(x_r,.5,0,1)\n",
    "Fp"
   ]
  },
  {
   "cell_type": "markdown",
   "metadata": {},
   "source": [
    "Finally, we display the resulting ``probability weighting,'' in the usual way and recover the inverse-S curve... or do we?"
   ]
  },
  {
   "cell_type": "code",
   "execution_count": 75,
   "metadata": {},
   "outputs": [
    {
     "data": {
      "image/png": "[encoded data removed]",
      "text/plain": [
       "<matplotlib.figure.Figure at 0x1a20cf8320>"
      ]
     },
     "metadata": {
      "needs_background": "light"
     },
     "output_type": "display_data"
    }
   ],
   "source": [
    "fig=plt.figure()\n",
    "ax=fig.add_axes([0,0,1,1])\n",
    "ax.plot(Fp,Fw,'b',label='')\n",
    "ax.plot(Fp,Fp,'r',label='')\n",
    "ax.legend()\n",
    "ax.set_xlabel(r'$F_p$')\n",
    "ax.set_ylabel(r'$F_w$')\n",
    "plt.show() "
   ]
  }
 ],
 "metadata": {
  "kernelspec": {
   "display_name": "Python 3",
   "language": "python",
   "name": "python3"
  },
  "language_info": {
   "codemirror_mode": {
    "name": "ipython",
    "version": 3
   },
   "file_extension": ".py",
   "mimetype": "text/x-python",
   "name": "python",
   "nbconvert_exporter": "python",
   "pygments_lexer": "ipython3",
   "version": "3.6.6"
  }
 },
 "nbformat": 4,
 "nbformat_minor": 2
}
