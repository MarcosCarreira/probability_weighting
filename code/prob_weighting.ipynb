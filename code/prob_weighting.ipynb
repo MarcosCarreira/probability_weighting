{
 "cells": [
  {
   "cell_type": "markdown",
   "metadata": {},
   "source": [
    "Let's generate N time discrete series, each consisting of T observations of a random variable X.\n",
    "\n",
    "First, we load the necessary python packages.\n",
    "                    "
   ]
  },
  {
   "cell_type": "code",
   "execution_count": 141,
   "metadata": {},
   "outputs": [
    {
     "name": "stdout",
     "output_type": "stream",
     "text": [
      "Python is: 3.6.6 |Anaconda custom (64-bit)| (default, Jun 28 2018, 11:07:29) \n",
      "[GCC 4.2.1 Compatible Clang 4.0.1 (tags/RELEASE_401/final)]\n",
      "Matplotlib is: 2.1.0\n",
      "numpy is: 1.13.3\n"
     ]
    }
   ],
   "source": [
    "# Check python version\n",
    "import sys\n",
    "print(\"Python is:\", sys.version)\n",
    "\n",
    "# Import matplotlib and numpy\n",
    "import matplotlib\n",
    "import matplotlib.pyplot as plt\n",
    "print(\"Matplotlib is:\", matplotlib.__version__)\n",
    "\n",
    "import numpy as np\n",
    "print(\"numpy is:\", np.__version__)\n",
    "\n",
    "import random\n",
    "from scipy.stats import triang\n",
    "from scipy.stats import norm\n",
    "from scipy.stats import truncnorm\n",
    "\n",
    "%matplotlib inline"
   ]
  },
  {
   "cell_type": "markdown",
   "metadata": {},
   "source": [
    "Next, we generate the series of random numbers. $N$ is the number of different series, and $T$ specifies how many observation we have in each series.\n",
    "\n",
    "We also set the range of the distribution we will consider [x_min, x_max], and the number of bins, n_bins, into which we will split this range. "
   ]
  },
  {
   "cell_type": "code",
   "execution_count": 157,
   "metadata": {},
   "outputs": [],
   "source": [
    "N=5000\n",
    "T=100\n",
    "\n",
    "x_min=-5\n",
    "x_max=5\n",
    "n_bins=20\n",
    "\n",
    "X=np.zeros((N,T))\n",
    "for i in range(0,N):\n",
    "    for j in range(0,T):\n",
    "#        X[i][j]=np.random.triangular(x_min,(x_min+x_max)/2,x_max)\n",
    "        X[i][j]=np.random.normal(0,1)\n",
    "\n"
   ]
  },
  {
   "cell_type": "markdown",
   "metadata": {},
   "source": [
    "Next, we\n",
    "\n",
    "1. count observations in each bin, for each of the N time series, yielding N histograms.\n",
    "\n",
    "2. compute the cumulative number of all events smaller than the upper end of each bin, for each of the N time series.\n",
    "\n",
    "3. estimate the uncertainty in this number as the standard deviation over all all time series.\n",
    "\n",
    "4. construct the cumulative decision weight $F_w$ by adding, for one time series (the 0th one [or the mean or median]), the uncertainty in the count, and then normalize.\n",
    "\n",
    "5. find the CDF of the distribution we used to generate the data."
   ]
  },
  {
   "cell_type": "code",
   "execution_count": 158,
   "metadata": {},
   "outputs": [],
   "source": [
    "#1 count\n",
    "n=np.empty((N,n_bins))\n",
    "\n",
    "for series in range(0,N):\n",
    "    n[series][:]=np.histogram(X[series][:],bins=n_bins,range=(x_min,x_max))[0]"
   ]
  },
  {
   "cell_type": "code",
   "execution_count": 159,
   "metadata": {},
   "outputs": [],
   "source": [
    "#2 find cumulative count\n",
    "cumulative=np.cumsum(n,1)\n",
    "\n",
    "#3 find uncertainty in cumulative count\n",
    "uncertainty=np.std(cumulative,0)\n",
    "\n",
    "#4 construct decision weights and normalize\n",
    "Fw=np.histogram(X[series][:],bins=n_bins,range=(x_min,x_max))[1]\n",
    "Fw[0]=0\n",
    "for i in range(0,n_bins):\n",
    "    Fw[i+1]=cumulative[0][i]+uncertainty[i]\n",
    "#    Fw[i+1]=np.mean(cumulative,0)[i]+uncertainty[i]\n",
    "#    Fw[i+1]=np.median(cumulative,0)[i]+uncertainty[i]\n",
    " \n",
    "Fw=Fw/Fw[-1]\n",
    "\n",
    "#5 find reference CDF\n",
    "#Fp=triang.cdf(np.histogram(X[series][:],bins=n_bins,range=(x_min,x_max))[1],.5,0,1)\n",
    "Fp=norm.cdf(np.histogram(X[series][:],bins=n_bins,range=(x_min,x_max))[1],0,1)\n"
   ]
  },
  {
   "cell_type": "markdown",
   "metadata": {},
   "source": [
    "Finally, we display the resulting ``probability weighting,'' in the usual way and recover the inverse-S curve... or do we?"
   ]
  },
  {
   "cell_type": "code",
   "execution_count": 160,
   "metadata": {},
   "outputs": [
    {
     "data": {
      "image/png": "[encoded data removed]",
      "text/plain": [
       "<matplotlib.figure.Figure at 0x1a1ba30ef0>"
      ]
     },
     "metadata": {
      "needs_background": "light"
     },
     "output_type": "display_data"
    }
   ],
   "source": [
    "fig=plt.figure()\n",
    "ax=fig.add_axes([0,0,1,1])\n",
    "ax.plot(Fp,Fw,'b',label='')\n",
    "ax.plot(Fp,Fp,'r',label='')\n",
    "ax.legend()\n",
    "ax.set_xlabel(r'$F_p$')\n",
    "ax.set_ylabel(r'$F_w$')\n",
    "plt.show() "
   ]
  },
  {
   "cell_type": "code",
   "execution_count": 155,
   "metadata": {},
   "outputs": [
    {
     "data": {
      "text/plain": [
       "array([ 0.        ,  0.06265344,  0.06886235,  0.13602436,  0.1922739 ,\n",
       "        0.25939909,  0.34605522,  0.41122772,  0.45554959,  0.53993567,\n",
       "        0.6117712 ,  0.70287413,  0.77285691,  0.81124713,  0.86881869,\n",
       "        0.91626221,  0.95254707,  0.96921939,  0.96533893,  0.99255592,  1.        ])"
      ]
     },
     "execution_count": 155,
     "metadata": {},
     "output_type": "execute_result"
    }
   ],
   "source": [
    "Fw"
   ]
  },
  {
   "cell_type": "code",
   "execution_count": 156,
   "metadata": {},
   "outputs": [
    {
     "data": {
      "text/plain": [
       "array([ 0.02275013,  0.03593032,  0.05479929,  0.08075666,  0.11506967,\n",
       "        0.15865525,  0.2118554 ,  0.27425312,  0.34457826,  0.42074029,\n",
       "        0.5       ,  0.57925971,  0.65542174,  0.72574688,  0.7881446 ,\n",
       "        0.84134475,  0.88493033,  0.91924334,  0.94520071,  0.96406968,\n",
       "        0.97724987])"
      ]
     },
     "execution_count": 156,
     "metadata": {},
     "output_type": "execute_result"
    }
   ],
   "source": [
    "Fp"
   ]
  },
  {
   "cell_type": "code",
   "execution_count": null,
   "metadata": {},
   "outputs": [],
   "source": []
  }
 ],
 "metadata": {
  "kernelspec": {
   "display_name": "Python 3",
   "language": "python",
   "name": "python3"
  },
  "language_info": {
   "codemirror_mode": {
    "name": "ipython",
    "version": 3
   },
   "file_extension": ".py",
   "mimetype": "text/x-python",
   "name": "python",
   "nbconvert_exporter": "python",
   "pygments_lexer": "ipython3",
   "version": "3.6.6"
  }
 },
 "nbformat": 4,
 "nbformat_minor": 2
}
