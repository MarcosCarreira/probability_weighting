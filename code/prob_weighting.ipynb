{
 "cells": [
  {
   "cell_type": "markdown",
   "metadata": {},
   "source": [
    "Let's generate N time discrete series, each consisting of T observations of a random variable X.\n",
    "\n",
    "We'll consider a triangular-distributed random variable, $$X\\sim Tr([0,1]).$$\n",
    "                    "
   ]
  },
  {
   "cell_type": "code",
   "execution_count": 7,
   "metadata": {},
   "outputs": [],
   "source": [
    "import matplotlib\n",
    "import matplotlib.pyplot as plt\n",
    "import numpy as np\n",
    "import random\n",
    "%matplotlib inline"
   ]
  },
  {
   "cell_type": "code",
   "execution_count": 8,
   "metadata": {},
   "outputs": [],
   "source": [
    "N=5000\n",
    "T=100\n",
    "\n",
    "x_min=0\n",
    "x_max=1\n",
    "\n",
    "X=np.zeros((N,T))\n",
    "\n",
    "for i in range(0,N):\n",
    "    for j in range(0,T):\n",
    "        X[i][j]=np.random.triangular(x_min,(x_min+x_max)/2,x_max)"
   ]
  },
  {
   "cell_type": "markdown",
   "metadata": {},
   "source": [
    "Next, we\n",
    "\n",
    "1. bin the range [0,1] into 10 intervals of width 0.1, and count observations in each bin, for each of the N time series.\n",
    "\n",
    "2. compute the cumulative number of all events smaller than the upper end of each bin, for each of the N time series.\n",
    "\n",
    "3. estimate the uncertainty in this number as the standard deviation over all all time series.\n",
    "\n",
    "4. construct the cumulative decision weight $F_w$ by adding, for one time series (the 0th one), the uncertainty in the count, and then normalize."
   ]
  },
  {
   "cell_type": "code",
   "execution_count": 9,
   "metadata": {},
   "outputs": [],
   "source": [
    "n=np.zeros((N,10))\n",
    "\n",
    "for series in range(0,N):\n",
    "    for obs in range(0,T):\n",
    "        n[series][int(10*X[series][obs])]=n[series][int(10*X[series][obs])]+1\n",
    "        \n",
    "cumulative=np.cumsum(n,1)\n",
    "uncertainty=np.std(cumulative,0)\n",
    "\n",
    "Fw=np.zeros(11)\n",
    "for i in range(0,10):\n",
    "    Fw[i+1]=cumulative[0][i]+uncertainty[i]\n",
    "\n",
    "Fw=Fw/Fw[-1]"
   ]
  },
  {
   "cell_type": "markdown",
   "metadata": {},
   "source": [
    "Finally, we display the resulting ``probability weighting,'' in the usual way and recover the inverse-S curve... or do we?"
   ]
  },
  {
   "cell_type": "code",
   "execution_count": 10,
   "metadata": {},
   "outputs": [
    {
     "data": {
      "image/png": "[encoded data removed]",
      "text/plain": [
       "<matplotlib.figure.Figure at 0x119319668>"
      ]
     },
     "metadata": {
      "needs_background": "light"
     },
     "output_type": "display_data"
    }
   ],
   "source": [
    "Fp=np.linspace(0,1,11)\n",
    "fig=plt.figure()\n",
    "ax=fig.add_axes([0,0,1,1])\n",
    "ax.plot(Fp,Fw,'b',label='')\n",
    "ax.plot(Fp,Fp,'r',label='')\n",
    "ax.legend()\n",
    "ax.set_xlabel(r'$F_p$')\n",
    "ax.set_ylabel(r'$F_w$')\n",
    "plt.show() "
   ]
  }
 ],
 "metadata": {
  "kernelspec": {
   "display_name": "Python 3",
   "language": "python",
   "name": "python3"
  },
  "language_info": {
   "codemirror_mode": {
    "name": "ipython",
    "version": 3
   },
   "file_extension": ".py",
   "mimetype": "text/x-python",
   "name": "python",
   "nbconvert_exporter": "python",
   "pygments_lexer": "ipython3",
   "version": "3.6.6"
  }
 },
 "nbformat": 4,
 "nbformat_minor": 2
}
