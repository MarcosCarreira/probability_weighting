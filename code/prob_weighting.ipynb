{
 "cells": [
  {
   "cell_type": "markdown",
   "metadata": {},
   "source": [
    "Let's generate N discrete time series, each consisting of T observations of a random variable X.\n",
    "\n",
    "First, we load the necessary Python packages.\n",
    "                    "
   ]
  },
  {
   "cell_type": "code",
   "execution_count": 1,
   "metadata": {},
   "outputs": [
    {
     "name": "stdout",
     "output_type": "stream",
     "text": [
      "Python is: 3.7.6 (default, Jan  8 2020, 20:23:39) [MSC v.1916 64 bit (AMD64)]\n",
      "Matplotlib is: 3.1.3\n",
      "Numpy is: 1.18.1\n"
     ]
    }
   ],
   "source": [
    "# Check python version\n",
    "import sys\n",
    "print(\"Python is:\", sys.version)\n",
    "\n",
    "# Import matplotlib and numpy\n",
    "import matplotlib\n",
    "import matplotlib.pyplot as plt\n",
    "print(\"Matplotlib is:\", matplotlib.__version__)\n",
    "\n",
    "import numpy as np\n",
    "print(\"Numpy is:\", np.__version__)\n",
    "\n",
    "# import random\n",
    "from scipy.stats import norm\n",
    "from scipy.stats import t\n",
    "# from scipy.stats import triang"
   ]
  },
  {
   "cell_type": "markdown",
   "metadata": {},
   "source": [
    "Next, we generate the series of random numbers. $N$ is the number of different series, and $T$ specifies how many observation we have in each series.\n",
    "\n",
    "We also set the range of the distribution we will consider [x_min, x_max], and the number of bins, n_bins, into which we will split this range.\n",
    "\n",
    "Feel free to edit the code to:\n",
    "\n",
    "1. choose a distribution (from Gaussian, Student t, and Triangular);\n",
    "\n",
    "2. change the distribution's parameters; and\n",
    "\n",
    "3. generate different random variables by changing the random seed."
   ]
  },
  {
   "cell_type": "code",
   "execution_count": 2,
   "metadata": {},
   "outputs": [],
   "source": [
    "# number and length of time series\n",
    "N=1000\n",
    "T=100\n",
    "\n",
    "# histogram parameters\n",
    "x_min=-20\n",
    "x_max=20\n",
    "n_bins=100\n",
    "bin_width=(x_max-x_min)/n_bins\n",
    "\n",
    "# choose a distribution\n",
    "\n",
    "# normal distribution\n",
    "l = 0 # location\n",
    "s = 2 # scale\n",
    "dist = norm(loc=l, scale=s)\n",
    "\n",
    "# t distribution\n",
    "# df = 1.5 # shape\n",
    "# l = 0 # location\n",
    "# s = 1 # scale\n",
    "# dist = t(df, loc=l, scale=s)\n",
    "\n",
    "# triangular distribution\n",
    "# c = 0.5 # shape (centre)\n",
    "# l = x_min # location\n",
    "# s = x_max-x_min # scale\n",
    "# dist = triang(c, loc=l, scale=s)\n",
    "\n",
    "# generate random variables\n",
    "seed = np.random.RandomState(10000) # random seed\n",
    "X=dist.rvs(size=[N,T], random_state=seed)"
   ]
  },
  {
   "cell_type": "markdown",
   "metadata": {},
   "source": [
    "Next, we:\n",
    "\n",
    "1. count observations in each bin, for each of the N time series, yielding N histograms;\n",
    "\n",
    "2. estimate the uncertainty in the bin counts as the standard deviation across all time series;\n",
    "\n",
    "3. construct the decision weight density $w$ by adding the uncertainty to each count, dividing by the total observations, and normalising;\n",
    "\n",
    "4. construct the CDF of the decision weights; and\n",
    "\n",
    "5. find the CDF of the reference distribution we used to generate the data."
   ]
  },
  {
   "cell_type": "code",
   "execution_count": 3,
   "metadata": {},
   "outputs": [],
   "source": [
    "# count\n",
    "n=np.empty((N,n_bins))\n",
    "for series in range(0,N):\n",
    "    n[series][:]=np.histogram(X[series][:],bins=n_bins,range=(x_min,x_max))[0]\n",
    "    x_bins=np.histogram(X[series][:],bins=n_bins,range=(x_min,x_max))[1] # bin edges\n",
    "x_l=x_bins[:-1] # left edges\n",
    "x_r=x_bins[1:] # right edges\n",
    "x_bin_c=(x_l+x_r)/2 # bin centres\n",
    "\n",
    "# find DM's count, mean count, and uncertainty\n",
    "dm_count=n[0] # DM's count\n",
    "mean_count=np.mean(n,0)# sample mean count across DMs\n",
    "uncertainty=np.std(n,0) # uncertainty in count\n",
    "count=dm_count # decide which count to use\n",
    "\n",
    "# construct decision weights and normalize\n",
    "phat=count/(T*bin_width) # estimated density\n",
    "wraw=phat+uncertainty/(T*bin_width) # unnormalised decision weight\n",
    "wmass=np.sum(wraw)*bin_width # unnormalised mass\n",
    "w=wraw/wmass # normalised decision weight density\n",
    "\n",
    "# find decision weight CDF\n",
    "Fw=np.cumsum(w)*bin_width\n",
    "\n",
    "# find reference CDF\n",
    "Fp=dist.cdf(x_bins) # all bin edges\n",
    "Fp=(Fp-Fp[0])/(Fp[-1]-Fp[0]) # normalise Fp over truncated range\n",
    "Fw=np.concatenate(([0],Fw)) # add left bin edge to Fw"
   ]
  },
  {
   "cell_type": "markdown",
   "metadata": {},
   "source": [
    "Finally, to display the resulting ``probability weighting,'' we plot:\n",
    "\n",
    "1. the estimated PDF with and without the uncertainty added (left); and\n",
    "\n",
    "2. the CDF mappings for the reference and estimated CDFs (right).\n",
    "\n",
    "Do we recover the inverse-S curve?"
   ]
  },
  {
   "cell_type": "code",
   "execution_count": 4,
   "metadata": {},
   "outputs": [
    {
     "data": {
      "image/png": "[encoded data removed]",
      "text/plain": [
       "<Figure size 720x360 with 2 Axes>"
      ]
     },
     "metadata": {
      "needs_background": "light"
     },
     "output_type": "display_data"
    }
   ],
   "source": [
    "# plot\n",
    "# define figure and axes\n",
    "fig, axes = plt.subplots(1, 2, figsize=(10,5))\n",
    "fig.tight_layout(pad=3)\n",
    "axes[0].hist(x_l, x_bins, weights=wraw, color='b', label='$\\hat{p}(x)+\\epsilon(\\hat{p})$')\n",
    "axes[0].hist(x_l, x_bins, weights=phat, color='r', label='$\\hat{p}(x)$')\n",
    "axes[0].set_xlim((-5,5))\n",
    "axes[0].set_ylim((0,0.5))\n",
    "axes[0].set_xlabel('$x$')\n",
    "axes[0].set_ylabel('estimated density')\n",
    "axes[0].legend(loc='upper left',fontsize='small')\n",
    "axes[1].plot(Fp,Fp,'r',label='$F_p$')\n",
    "axes[1].plot(Fp,Fw,'b',label='$F_w$')\n",
    "axes[1].set_xlabel('$F_p$')\n",
    "axes[1].set_ylabel('CDF')\n",
    "axes[1].legend(loc='upper left',fontsize='small')\n",
    "\n",
    "plt.show()"
   ]
  }
 ],
 "metadata": {
  "kernelspec": {
   "display_name": "Python 3",
   "language": "python",
   "name": "python3"
  },
  "language_info": {
   "codemirror_mode": {
    "name": "ipython",
    "version": 3
   },
   "file_extension": ".py",
   "mimetype": "text/x-python",
   "name": "python",
   "nbconvert_exporter": "python",
   "pygments_lexer": "ipython3",
   "version": "3.7.6"
  }
 },
 "nbformat": 4,
 "nbformat_minor": 2
}
